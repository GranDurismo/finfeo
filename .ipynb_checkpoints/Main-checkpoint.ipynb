{
 "cells": [
  {
   "cell_type": "code",
   "execution_count": 9,
   "metadata": {},
   "outputs": [],
   "source": [
    "from pprint import pprint\n",
    "import requests"
   ]
  },
  {
   "cell_type": "code",
   "execution_count": 18,
   "metadata": {},
   "outputs": [
    {
     "name": "stdout",
     "output_type": "stream",
     "text": [
      "{'daily': {'data': [{'apparentTemperatureHigh': 33.6,\n",
      "                     'apparentTemperatureHighTime': 1483300800,\n",
      "                     'apparentTemperatureLow': 21.83,\n",
      "                     'apparentTemperatureLowTime': 1483347600,\n",
      "                     'apparentTemperatureMax': 33.6,\n",
      "                     'apparentTemperatureMaxTime': 1483300800,\n",
      "                     'apparentTemperatureMin': 24.11,\n",
      "                     'apparentTemperatureMinTime': 1483279200,\n",
      "                     'cloudCover': 0.87,\n",
      "                     'dewPoint': 22.42,\n",
      "                     'humidity': 0.78,\n",
      "                     'icon': 'partly-cloudy-day',\n",
      "                     'moonPhase': 0.11,\n",
      "                     'precipIntensity': 0,\n",
      "                     'precipIntensityMax': 0,\n",
      "                     'precipProbability': 0,\n",
      "                     'summary': 'Húmedo y mayormente nublado durante el día.',\n",
      "                     'sunriseTime': 1483259771,\n",
      "                     'sunsetTime': 1483311778,\n",
      "                     'temperatureHigh': 29.94,\n",
      "                     'temperatureHighTime': 1483293600,\n",
      "                     'temperatureLow': 21.72,\n",
      "                     'temperatureLowTime': 1483340400,\n",
      "                     'temperatureMax': 29.94,\n",
      "                     'temperatureMaxTime': 1483293600,\n",
      "                     'temperatureMin': 23.42,\n",
      "                     'temperatureMinTime': 1483279200,\n",
      "                     'time': 1483239600,\n",
      "                     'uvIndex': 6,\n",
      "                     'uvIndexTime': 1483290000,\n",
      "                     'visibility': 9.54,\n",
      "                     'windBearing': 198,\n",
      "                     'windGust': 9.39,\n",
      "                     'windGustTime': 1483322400,\n",
      "                     'windSpeed': 0.82}]},\n",
      " 'latitude': -34.915,\n",
      " 'longitude': -56.165,\n",
      " 'offset': -3,\n",
      " 'timezone': 'America/Montevideo'}\n"
     ]
    }
   ],
   "source": [
    "with open('API key.txt','r') as key:\n",
    "    key = key.read()\n",
    "    \n",
    "latitude = -34.915\n",
    "longitude = -56.165\n",
    "date = '2017-01-01T00:00:00'\n",
    "r = requests.get('https://api.darksky.net/forecast/%s/%s,%s,%s' %(key, latitude, longitude, date) + \n",
    "                 '?lang=es&units=si&exclude=currently,minutely,hourly,alerts,flags')\n",
    "pprint(r.json())"
   ]
  },
  {
   "cell_type": "code",
   "execution_count": null,
   "metadata": {},
   "outputs": [],
   "source": []
  }
 ],
 "metadata": {
  "kernelspec": {
   "display_name": "Python 3",
   "language": "python",
   "name": "python3"
  },
  "language_info": {
   "codemirror_mode": {
    "name": "ipython",
    "version": 3
   },
   "file_extension": ".py",
   "mimetype": "text/x-python",
   "name": "python",
   "nbconvert_exporter": "python",
   "pygments_lexer": "ipython3",
   "version": "3.7.1"
  }
 },
 "nbformat": 4,
 "nbformat_minor": 2
}
